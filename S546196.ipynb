{
 "cells": [
  {
   "cell_type": "markdown",
   "id": "4a41ce65-dcef-41f9-888c-3a0b33126570",
   "metadata": {},
   "source": [
    "Hajar Banyalmarjeh"
   ]
  },
  {
   "cell_type": "code",
   "execution_count": 208,
   "id": "4f542f63-21a5-4f74-be8f-fbede52d9a0f",
   "metadata": {},
   "outputs": [
    {
     "name": "stdout",
     "output_type": "stream",
     "text": [
      "*      *\n",
      "**    **\n",
      "***  ***\n",
      "********\n"
     ]
    }
   ],
   "source": [
    "rows = 4\n",
    "\n",
    "for i in range(1, rows+1):\n",
    "    print(\"*\"*i, end=\"\")\n",
    "    print(\" \"*(rows-i)*2, end=\"\")\n",
    "    print(\"*\"*i)"
   ]
  },
  {
   "cell_type": "code",
   "execution_count": null,
   "id": "00fe05cc-f2cf-4ae7-986f-5a1a12b750d6",
   "metadata": {},
   "outputs": [],
   "source": []
  }
 ],
 "metadata": {
  "kernelspec": {
   "display_name": "Python 3",
   "language": "python",
   "name": "python3"
  },
  "language_info": {
   "codemirror_mode": {
    "name": "ipython",
    "version": 3
   },
   "file_extension": ".py",
   "mimetype": "text/x-python",
   "name": "python",
   "nbconvert_exporter": "python",
   "pygments_lexer": "ipython3",
   "version": "3.7.10"
  }
 },
 "nbformat": 4,
 "nbformat_minor": 5
}
